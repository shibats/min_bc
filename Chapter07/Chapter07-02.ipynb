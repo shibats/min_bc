{
 "cells": [
  {
   "cell_type": "markdown",
   "metadata": {},
   "source": [
    "## Chapter 07-03 楕円曲線暗号"
   ]
  },
  {
   "cell_type": "code",
   "execution_count": null,
   "metadata": {},
   "outputs": [],
   "source": [
    "# Collaboratoryを使っている方は，下の行のコメント(#)を取り除いて実行してください\n",
    "#!pip install minbc_lib"
   ]
  },
  {
   "cell_type": "markdown",
   "metadata": {},
   "source": [
    "### 楕円曲線を整数に押し込む"
   ]
  },
  {
   "cell_type": "code",
   "execution_count": null,
   "metadata": {},
   "outputs": [],
   "source": [
    "from minbc_lib.ecc import *"
   ]
  },
  {
   "cell_type": "code",
   "execution_count": null,
   "metadata": {},
   "outputs": [],
   "source": [
    "# 描画用ライブラリをインポート\n",
    "from matplotlib import pyplot as plt\n",
    "\n",
    "def gfec_plot(a, b, p):\n",
    "    # 有限体 GF(p) における\n",
    "    # 楕円曲線 x**3+ax+b-y**2を描画する\n",
    "    # 楕円曲線上の点を追加するリスト(x, y)を初期化\n",
    "    xlist = []\n",
    "    ylist = []\n",
    "    # x(1-p), y(1-p)の二重ループを実行\n",
    "    for x in range(1, p+1):\n",
    "        for y in range(1, p+1):\n",
    "            if (x**3+a*x+b-y**2) % p == 0:\n",
    "                # 点(x, y)が曲線上にあった\n",
    "                xlist.append(x)\n",
    "                ylist.append(y)\n",
    "    # リストの点をプロット\n",
    "    plt.plot(xlist, ylist, \".\")"
   ]
  },
  {
   "cell_type": "code",
   "execution_count": null,
   "metadata": {},
   "outputs": [],
   "source": [
    "gfec_plot(-1, 1, 79)"
   ]
  },
  {
   "cell_type": "markdown",
   "metadata": {},
   "source": [
    "### 楕円曲線から鍵を得る"
   ]
  },
  {
   "cell_type": "code",
   "execution_count": null,
   "metadata": {},
   "outputs": [],
   "source": [
    "# 関数をインポート\n",
    "from minbc_lib.ecc import *\n",
    "# 点の移動を描画\n",
    "plot_gfec_points(-1, 1, 79, 3, 5, 15)"
   ]
  },
  {
   "cell_type": "code",
   "execution_count": null,
   "metadata": {},
   "outputs": [],
   "source": []
  }
 ],
 "metadata": {
  "kernelspec": {
   "display_name": "Python 3",
   "language": "python",
   "name": "python3"
  },
  "language_info": {
   "codemirror_mode": {
    "name": "ipython",
    "version": 3
   },
   "file_extension": ".py",
   "mimetype": "text/x-python",
   "name": "python",
   "nbconvert_exporter": "python",
   "pygments_lexer": "ipython3",
   "version": "3.7.0"
  }
 },
 "nbformat": 4,
 "nbformat_minor": 2
}
