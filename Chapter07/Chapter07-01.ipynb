{
 "cells": [
  {
   "cell_type": "markdown",
   "metadata": {},
   "source": [
    "# Chapter 07 公開鍵暗号と契約"
   ]
  },
  {
   "cell_type": "markdown",
   "metadata": {},
   "source": [
    "## Chapter 07-01 公開鍵暗号"
   ]
  },
  {
   "cell_type": "code",
   "execution_count": null,
   "metadata": {},
   "outputs": [],
   "source": [
    "# Collaboratoryを使っている方は，下の行のコメント(#)を取り除いて実行してください\n",
    "#!pip install minbc_lib"
   ]
  },
  {
   "cell_type": "markdown",
   "metadata": {},
   "source": [
    "### RSA暗号"
   ]
  },
  {
   "cell_type": "code",
   "execution_count": null,
   "metadata": {},
   "outputs": [],
   "source": [
    "from minbc_lib.rsa import *   # RSA暗号用の関数をインポートする\n",
    "E, D, N = generate_keys(19, 3259)  # 公開鍵，秘密鍵を作る\n",
    "E, D, N     # 作られた鍵を表示する"
   ]
  },
  {
   "cell_type": "code",
   "execution_count": null,
   "metadata": {},
   "outputs": [],
   "source": [
    "rsa_encrypt(128, E, N)   # 公開鍵で128を暗号化"
   ]
  },
  {
   "cell_type": "code",
   "execution_count": null,
   "metadata": {},
   "outputs": [],
   "source": [
    "rsa_decrypt(23152, D, N) # 秘密鍵で復号化"
   ]
  },
  {
   "cell_type": "code",
   "execution_count": null,
   "metadata": {},
   "outputs": [],
   "source": [
    "rsa_encrypt(128, D, N)   # 秘密鍵で128をRSA暗号で暗号化"
   ]
  },
  {
   "cell_type": "code",
   "execution_count": null,
   "metadata": {},
   "outputs": [],
   "source": [
    "rsa_decrypt(18557, E, N)   # 公開鍵で復号化"
   ]
  },
  {
   "cell_type": "code",
   "execution_count": null,
   "metadata": {},
   "outputs": [],
   "source": [
    "def generate_keys(p, q):\n",
    "    # 暗号化の鍵を求める\n",
    "    N = p*q  # p×qを求める\n",
    "    L = lcm(p-1, q-1)  #p-1, q-1の最小公倍数を求める\n",
    "    for i in range(2, L):\n",
    "        # 1以上L以下でLとの最大公約数が1の数を求める\n",
    "        if gcd(i, L) == 1:\n",
    "            E = i  # 見つかったので変数に代入\n",
    "            break  # ループを終了\n",
    "    for i in range(2, L):\n",
    "        # 1以上L以下でLとの最大公約数が1の数を求める\n",
    "        if (E*i) % L == 1:\n",
    "            D = i  # 見つかったので変数に代入\n",
    "            break # ループを終了\n",
    "    return E, D, N\n"
   ]
  },
  {
   "cell_type": "code",
   "execution_count": null,
   "metadata": {},
   "outputs": [],
   "source": []
  }
 ],
 "metadata": {
  "kernelspec": {
   "display_name": "Python 3",
   "language": "python",
   "name": "python3"
  },
  "language_info": {
   "codemirror_mode": {
    "name": "ipython",
    "version": 3
   },
   "file_extension": ".py",
   "mimetype": "text/x-python",
   "name": "python",
   "nbconvert_exporter": "python",
   "pygments_lexer": "ipython3",
   "version": "3.7.0"
  }
 },
 "nbformat": 4,
 "nbformat_minor": 2
}
