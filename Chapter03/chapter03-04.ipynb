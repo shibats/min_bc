{
 "cells": [
  {
   "cell_type": "markdown",
   "metadata": {},
   "source": [
    "## Chapter 03-04 履歴は予測する"
   ]
  },
  {
   "cell_type": "code",
   "execution_count": null,
   "metadata": {},
   "outputs": [],
   "source": [
    "# Collaboratoryを使っている方は，下の行のコメント(#)を取り除いて実行してください\n",
    "#!pip install minbc_lib"
   ]
  },
  {
   "cell_type": "markdown",
   "metadata": {},
   "source": [
    "### 履歴を比較する"
   ]
  },
  {
   "cell_type": "code",
   "execution_count": null,
   "metadata": {},
   "outputs": [],
   "source": [
    "from minbc_lib.dwwallets import *   # ライブラリを読み込む\n",
    "\n",
    "get_wallet(1).pie_chart()\n",
    "get_wallet(2).pie_chart()"
   ]
  },
  {
   "cell_type": "markdown",
   "metadata": {},
   "source": [
    "### 履歴と予測"
   ]
  },
  {
   "cell_type": "code",
   "execution_count": null,
   "metadata": {},
   "outputs": [],
   "source": [
    "wallet1 = get_wallet(0)   # Aさんの履歴\n",
    "y = []   # 電気料金のリストを初期化\n",
    "for i in wallet1.query(class2='電気'):\n",
    "    # 電気代だけを取り出す(12ヶ月分)\n",
    "    y = y+[-i[0]]  # 電気料金だけをリストに追加"
   ]
  },
  {
   "cell_type": "code",
   "execution_count": null,
   "metadata": {},
   "outputs": [],
   "source": [
    "# グラフ描画,計算用のライブラリをインポート\n",
    "from matplotlib import pyplot as plt\n",
    "import numpy as np\n",
    "\n",
    "x = np.arange(12)  # 0から11までのリストを作る\n",
    "\n",
    "plt.ylim([0, 5500])   # グラフの範囲を決める\n",
    "plt.plot(x, y)            # 電気代をグラフにする"
   ]
  },
  {
   "cell_type": "code",
   "execution_count": null,
   "metadata": {},
   "outputs": [],
   "source": [
    "coef=np.polyfit(x, y, 5)    # 5次関数で近似，係数を得る"
   ]
  },
  {
   "cell_type": "code",
   "execution_count": null,
   "metadata": {},
   "outputs": [],
   "source": [
    "# グラフがなめらかになるように，区間を細かくしたXのリストを作る\n",
    "x2 = np.arange(0, 11, 0.1)  \n",
    "func = np.poly1d(coef)   # 係数から関数を得る\n",
    "y2 = func(x2)  # 近似した関数から値を得る\n",
    "\n",
    "plt.ylim([0, 5500])   # グラフの範囲を決める\n",
    "plt.plot(x, y)             # 電気代をグラフにする\n",
    "plt.plot(x2, y2)           # 近似値をグラフにする\n"
   ]
  },
  {
   "cell_type": "code",
   "execution_count": null,
   "metadata": {},
   "outputs": [],
   "source": []
  }
 ],
 "metadata": {
  "kernelspec": {
   "display_name": "Python 3",
   "language": "python",
   "name": "python3"
  },
  "language_info": {
   "codemirror_mode": {
    "name": "ipython",
    "version": 3
   },
   "file_extension": ".py",
   "mimetype": "text/x-python",
   "name": "python",
   "nbconvert_exporter": "python",
   "pygments_lexer": "ipython3",
   "version": "3.7.0"
  }
 },
 "nbformat": 4,
 "nbformat_minor": 2
}
