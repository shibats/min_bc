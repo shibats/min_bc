{
 "cells": [
  {
   "cell_type": "markdown",
   "metadata": {},
   "source": [
    "## Chapter 05-01 ハッシュと公開鍵暗号"
   ]
  },
  {
   "cell_type": "code",
   "execution_count": null,
   "metadata": {},
   "outputs": [],
   "source": [
    "# Collaboratoryを使っている方は，下の行のコメント(#)を取り除いて実行してください\n",
    "#!pip install minbc_lib"
   ]
  },
  {
   "cell_type": "markdown",
   "metadata": {},
   "source": [
    "### エラー検出"
   ]
  },
  {
   "cell_type": "code",
   "execution_count": null,
   "metadata": {},
   "outputs": [],
   "source": [
    "def calc_checksum(word):\n",
    "    # 英数字のチェックサムを計算する\n",
    "    checksum = 0   # チェックサムを初期化\n",
    "    for c in word: # 1文字ずつ取り出してループ\n",
    "        checksum += ord(c) # 文字に相当する数を足す\n",
    "    return checksum & 0b11111111 # 下位8ビットを取り出す"
   ]
  },
  {
   "cell_type": "code",
   "execution_count": null,
   "metadata": {},
   "outputs": [],
   "source": [
    "calc_checksum(\"checksum\")"
   ]
  },
  {
   "cell_type": "code",
   "execution_count": null,
   "metadata": {},
   "outputs": [],
   "source": [
    "calc_checksum(\"chacksun\")"
   ]
  },
  {
   "cell_type": "code",
   "execution_count": null,
   "metadata": {},
   "outputs": [],
   "source": [
    "from  binascii import crc_hqx\n",
    "crc_hqx(b\"checksum\", 0)"
   ]
  },
  {
   "cell_type": "code",
   "execution_count": null,
   "metadata": {},
   "outputs": [],
   "source": [
    "crc_hqx(b\"chekcsum\", 0)"
   ]
  },
  {
   "cell_type": "markdown",
   "metadata": {},
   "source": [
    "### 改ざん検出とデータの偽装"
   ]
  },
  {
   "cell_type": "code",
   "execution_count": null,
   "metadata": {},
   "outputs": [],
   "source": [
    "message = b\"200.\"  # 元の文字列\n",
    "for i in range(20000):  # 2万回ループ\n",
    "    message += b\"0\"       # 文字列に0を連結\n",
    "    if crc_hqx(message, 0) == 49491:\n",
    "        # checksumという文字列と同じCRC値が見つかった\n",
    "        print(message, i+1)    # 結果を表示\n",
    "        break     # ループを終了"
   ]
  },
  {
   "cell_type": "markdown",
   "metadata": {},
   "source": [
    "### ハッシュ値とハッシュ関数"
   ]
  },
  {
   "cell_type": "code",
   "execution_count": null,
   "metadata": {},
   "outputs": [],
   "source": [
    "from hashlib import md5   # MD5ライブラリをインポート\n",
    "m = md5(b\"md5hash\")        # ハッシュを計算する準備\n",
    "m.hexdigest()   # 16進数のハッシュ値を表示"
   ]
  },
  {
   "cell_type": "code",
   "execution_count": null,
   "metadata": {},
   "outputs": [],
   "source": [
    "m = md5(b\"md5hash!\")        # ハッシュを計算する準備\n",
    "m.hexdigest()   # 16進数のハッシュ値を表示"
   ]
  },
  {
   "cell_type": "markdown",
   "metadata": {},
   "source": [
    "### ハッシュの衝突"
   ]
  },
  {
   "cell_type": "code",
   "execution_count": null,
   "metadata": {},
   "outputs": [],
   "source": [
    "from hashlib import md5   # MD5ライブラリをインポート\n",
    "from minbc_lib.hash import *     # データをインポート\n",
    "md5(s1).hexdigest()    # s1のMD5ハッシュを出力"
   ]
  },
  {
   "cell_type": "code",
   "execution_count": null,
   "metadata": {},
   "outputs": [],
   "source": [
    "md5(s2).hexdigest()    # s1のMD5ハッシュを出力"
   ]
  },
  {
   "cell_type": "code",
   "execution_count": null,
   "metadata": {},
   "outputs": [],
   "source": [
    "s1_orig"
   ]
  },
  {
   "cell_type": "code",
   "execution_count": null,
   "metadata": {},
   "outputs": [],
   "source": [
    "s2_orig"
   ]
  },
  {
   "cell_type": "markdown",
   "metadata": {},
   "source": [
    "### ノンス"
   ]
  },
  {
   "cell_type": "code",
   "execution_count": null,
   "metadata": {},
   "outputs": [],
   "source": [
    "from hashlib import md5   # MD5ライブラリをインポート\n",
    "# 南京錠を開ける数からつくったMD5ハッシュ値\n",
    "hashv = \"9e7ba617ad9e69b39bd0c29335b79629\"\n",
    "\n",
    "for i in range(0, 10000): # ループ\n",
    "    # 数から0-9999のバイト文字列を作る\n",
    "    key = bytes(str(i), 'us-ascii')\n",
    "    if md5(key).hexdigest() == hashv:\n",
    "        # MD5ハッシュ値と与えられた文字列が一致\n",
    "        print(key)    # 数を表示する\n",
    "        break            # ループを終了"
   ]
  },
  {
   "cell_type": "code",
   "execution_count": null,
   "metadata": {},
   "outputs": [],
   "source": []
  }
 ],
 "metadata": {
  "kernelspec": {
   "display_name": "Python 3",
   "language": "python",
   "name": "python3"
  },
  "language_info": {
   "codemirror_mode": {
    "name": "ipython",
    "version": 3
   },
   "file_extension": ".py",
   "mimetype": "text/x-python",
   "name": "python",
   "nbconvert_exporter": "python",
   "pygments_lexer": "ipython3",
   "version": "3.7.0"
  }
 },
 "nbformat": 4,
 "nbformat_minor": 2
}
