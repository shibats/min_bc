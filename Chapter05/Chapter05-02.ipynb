{
 "cells": [
  {
   "cell_type": "markdown",
   "metadata": {},
   "source": [
    "## Chapter 05-02 公開鍵暗号と楕円曲線暗号"
   ]
  },
  {
   "cell_type": "code",
   "execution_count": null,
   "metadata": {},
   "outputs": [],
   "source": [
    "# Collaboratoryを使っている方は，下の行のコメント(#)を取り除いて実行してください\n",
    "#!pip install minbc_lib"
   ]
  },
  {
   "cell_type": "markdown",
   "metadata": {},
   "source": [
    "### RSA暗号"
   ]
  },
  {
   "cell_type": "code",
   "execution_count": 6,
   "metadata": {},
   "outputs": [
    {
     "data": {
      "text/plain": [
       "(5, 1955, 61921)"
      ]
     },
     "execution_count": 6,
     "metadata": {},
     "output_type": "execute_result"
    }
   ],
   "source": [
    "from minbc_lib.rsa import *   # RSA暗号用の関数をインポートする\n",
    "E, D, N = generate_keys(19, 3259)  # 公開鍵，秘密鍵を作る\n",
    "E, D, N     # 作られた鍵を表示する"
   ]
  },
  {
   "cell_type": "code",
   "execution_count": 7,
   "metadata": {},
   "outputs": [
    {
     "data": {
      "text/plain": [
       "23152"
      ]
     },
     "execution_count": 7,
     "metadata": {},
     "output_type": "execute_result"
    }
   ],
   "source": [
    "rsa_encrypt(128, E, N)   # 公開鍵で128を暗号化"
   ]
  },
  {
   "cell_type": "code",
   "execution_count": 8,
   "metadata": {},
   "outputs": [
    {
     "data": {
      "text/plain": [
       "128"
      ]
     },
     "execution_count": 8,
     "metadata": {},
     "output_type": "execute_result"
    }
   ],
   "source": [
    "rsa_decrypt(23152, D, N) # 秘密鍵で復号化"
   ]
  },
  {
   "cell_type": "code",
   "execution_count": 9,
   "metadata": {},
   "outputs": [
    {
     "data": {
      "text/plain": [
       "18557"
      ]
     },
     "execution_count": 9,
     "metadata": {},
     "output_type": "execute_result"
    }
   ],
   "source": [
    "rsa_encrypt(128, D, N)   # 秘密鍵で128をRSA暗号で暗号化"
   ]
  },
  {
   "cell_type": "code",
   "execution_count": 11,
   "metadata": {},
   "outputs": [
    {
     "data": {
      "text/plain": [
       "128"
      ]
     },
     "execution_count": 11,
     "metadata": {},
     "output_type": "execute_result"
    }
   ],
   "source": [
    "rsa_decrypt(18557, E, N)"
   ]
  },
  {
   "cell_type": "code",
   "execution_count": null,
   "metadata": {},
   "outputs": [],
   "source": [
    "def generate_keys(p, q):\n",
    "    # 暗号化の鍵を求める\n",
    "    N = p*q  # p×qを求める\n",
    "    L = lcm(p-1, q-1)  #p-1, q-1の最小公倍数を求める\n",
    "    for i in range(2, L):\n",
    "        # 1以上L以下でLとの最大公約数が1の数を求める\n",
    "        if gcd(i, L) == 1:\n",
    "            E = i  # 見つかったので変数に代入\n",
    "            break  # ループを終了\n",
    "    for i in range(2, L):\n",
    "        # 1以上L以下でLとの最大公約数が1の数を求める\n",
    "        if (E*i) % L == 1:\n",
    "            D = i  # 見つかったので変数に代入\n",
    "            break # ループを終了\n",
    "    return E, D, N"
   ]
  },
  {
   "cell_type": "markdown",
   "metadata": {},
   "source": [
    "### 楕円曲線を整数に押し込む"
   ]
  },
  {
   "cell_type": "code",
   "execution_count": null,
   "metadata": {},
   "outputs": [],
   "source": [
    "from minbc_lib.ecc import *"
   ]
  },
  {
   "cell_type": "code",
   "execution_count": null,
   "metadata": {},
   "outputs": [],
   "source": [
    "# 描画用ライブラリをインポート\n",
    "from matplotlib import pyplot as plt\n",
    "\n",
    "def gfec_plot(a, b, p):\n",
    "    # 有限体 GF(p) における\n",
    "    # 楕円曲線 x**3+ax+b-y**2を描画する\n",
    "    # 楕円曲線上の点を追加するリスト(x, y)を初期化\n",
    "    xlist = []\n",
    "    ylist = []\n",
    "    # x(1-p), y(1-p)の二重ループを実行\n",
    "    for x in range(1, p+1):\n",
    "        for y in range(1, p+1):\n",
    "            if (x**3+a*x+b-y**2) % p == 0:\n",
    "                # 点(x, y)が曲線上にあった\n",
    "                xlist.append(x)\n",
    "                ylist.append(y)\n",
    "    # リストの点をプロット\n",
    "    plt.plot(xlist, ylist, \".\")"
   ]
  },
  {
   "cell_type": "code",
   "execution_count": null,
   "metadata": {},
   "outputs": [],
   "source": [
    "gfec_plot(-1, 1, 79)"
   ]
  },
  {
   "cell_type": "markdown",
   "metadata": {},
   "source": [
    "### 楕円曲線から鍵を得る"
   ]
  },
  {
   "cell_type": "code",
   "execution_count": null,
   "metadata": {},
   "outputs": [],
   "source": [
    "# 関数をインポート\n",
    "from minbc_lib.ecc import *\n",
    "# 点の移動を描画\n",
    "plot_gfec_points(-1, 1, 79, 3, 5, 15)"
   ]
  },
  {
   "cell_type": "code",
   "execution_count": null,
   "metadata": {},
   "outputs": [],
   "source": []
  }
 ],
 "metadata": {
  "kernelspec": {
   "display_name": "Python 3",
   "language": "python",
   "name": "python3"
  },
  "language_info": {
   "codemirror_mode": {
    "name": "ipython",
    "version": 3
   },
   "file_extension": ".py",
   "mimetype": "text/x-python",
   "name": "python",
   "nbconvert_exporter": "python",
   "pygments_lexer": "ipython3",
   "version": "3.7.0"
  }
 },
 "nbformat": 4,
 "nbformat_minor": 2
}
