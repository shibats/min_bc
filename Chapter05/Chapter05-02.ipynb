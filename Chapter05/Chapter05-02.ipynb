{
 "cells": [
  {
   "cell_type": "markdown",
   "metadata": {},
   "source": [
    "## Chapter 05-02 ハッシュの衝突"
   ]
  },
  {
   "cell_type": "code",
   "execution_count": null,
   "metadata": {},
   "outputs": [],
   "source": [
    "# Collaboratoryを使っている方は，下の行のコメント(#)を取り除いて実行してください\n",
    "#!pip install minbc_lib"
   ]
  },
  {
   "cell_type": "markdown",
   "metadata": {},
   "source": [
    "### ハッシュの衝突困難性"
   ]
  },
  {
   "cell_type": "code",
   "execution_count": null,
   "metadata": {},
   "outputs": [],
   "source": [
    "from hashlib import md5   # MD5ライブラリをインポート\n",
    "from minbc_lib.hash import *     # データをインポート\n",
    "md5(s1).hexdigest()    # s1のMD5ハッシュを出力"
   ]
  },
  {
   "cell_type": "code",
   "execution_count": null,
   "metadata": {},
   "outputs": [],
   "source": [
    "md5(s2).hexdigest()    # s1のMD5ハッシュを出力"
   ]
  },
  {
   "cell_type": "markdown",
   "metadata": {},
   "source": [
    "### ノンス"
   ]
  },
  {
   "cell_type": "code",
   "execution_count": null,
   "metadata": {},
   "outputs": [],
   "source": [
    "from hashlib import md5   # MD5ライブラリをインポート\n",
    "# 南京錠を開ける数からつくったMD5ハッシュ値\n",
    "hashv = \"9e7ba617ad9e69b39bd0c29335b79629\"\n",
    "\n",
    "for i in range(0, 10000): # ループ\n",
    "    # 数から0-9999のバイト文字列を作る\n",
    "    key = bytes(str(i), 'us-ascii')\n",
    "    if md5(key).hexdigest() == hashv:\n",
    "        # MD5ハッシュ値と与えられた文字列が一致\n",
    "        print(key)    # 数を表示する\n",
    "        break            # ループを終了\n"
   ]
  },
  {
   "cell_type": "code",
   "execution_count": null,
   "metadata": {},
   "outputs": [],
   "source": []
  }
 ],
 "metadata": {
  "kernelspec": {
   "display_name": "Python 3",
   "language": "python",
   "name": "python3"
  },
  "language_info": {
   "codemirror_mode": {
    "name": "ipython",
    "version": 3
   },
   "file_extension": ".py",
   "mimetype": "text/x-python",
   "name": "python",
   "nbconvert_exporter": "python",
   "pygments_lexer": "ipython3",
   "version": "3.7.0"
  }
 },
 "nbformat": 4,
 "nbformat_minor": 2
}
