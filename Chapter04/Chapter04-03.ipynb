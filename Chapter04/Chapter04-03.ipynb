{
 "cells": [
  {
   "cell_type": "markdown",
   "metadata": {},
   "source": [
    "## Chapter 04-03 近代暗号"
   ]
  },
  {
   "cell_type": "code",
   "execution_count": null,
   "metadata": {},
   "outputs": [],
   "source": [
    "# Collaboratoryを使っている方は，下の行のコメント(#)を取り除いて実行してください\n",
    "#pip install minbc_lib"
   ]
  },
  {
   "cell_type": "markdown",
   "metadata": {},
   "source": [
    "### 排他的論理和(XOR)と暗号"
   ]
  },
  {
   "cell_type": "code",
   "execution_count": null,
   "metadata": {},
   "outputs": [],
   "source": [
    "bin(15)"
   ]
  },
  {
   "cell_type": "code",
   "execution_count": null,
   "metadata": {},
   "outputs": [],
   "source": [
    "bin(0b1111 ^ 0b1010)"
   ]
  },
  {
   "cell_type": "code",
   "execution_count": null,
   "metadata": {},
   "outputs": [],
   "source": [
    "bin(0b101 ^ 0b1010)"
   ]
  },
  {
   "cell_type": "markdown",
   "metadata": {},
   "source": [
    "### バーナム暗号"
   ]
  },
  {
   "cell_type": "code",
   "execution_count": null,
   "metadata": {},
   "outputs": [],
   "source": [
    "def binary_cipher(plist, key):\n",
    "    # XORを使って数のリストを暗号化する\n",
    "    result = []   # 結果を保存するリストを初期化\n",
    "    for p, k in zip(plist, key):  # 二つのリストを使ってループ\n",
    "        result.append(p ^ k)   # XORの結果をリストに追加\n",
    "    return result"
   ]
  },
  {
   "cell_type": "code",
   "execution_count": null,
   "metadata": {},
   "outputs": [],
   "source": [
    "from minbc_lib.bcipher import *"
   ]
  },
  {
   "cell_type": "code",
   "execution_count": null,
   "metadata": {},
   "outputs": [],
   "source": [
    "plist = [65, 66, 67]\n",
    "key = [1, 2, 3]\n",
    "clist = binary_cipher(plist, key)\n",
    "clist    # 暗号化の結果を表示"
   ]
  },
  {
   "cell_type": "code",
   "execution_count": null,
   "metadata": {},
   "outputs": [],
   "source": [
    "clist2 = binary_cipher(clist, key)\n",
    "clist2    # 復号化の結果を表示"
   ]
  },
  {
   "cell_type": "markdown",
   "metadata": {},
   "source": [
    "### 乱数の生成とストリーム暗号"
   ]
  },
  {
   "cell_type": "code",
   "execution_count": null,
   "metadata": {},
   "outputs": [],
   "source": [
    "from minbc_lib.bcipher import *"
   ]
  },
  {
   "cell_type": "code",
   "execution_count": null,
   "metadata": {},
   "outputs": [],
   "source": [
    "def KSA(key):\n",
    "    # 0から255までのリストを作りシャッフルする\n",
    "    k = list(range(256))  # 0から255までのリストを作る\n",
    "    j = 0   # 入れ替えに使うインデックスを初期化\n",
    "    for i in range(256): # 0から255までループ\n",
    "        # 入れ替えに使うインデックスを計算\n",
    "        j = (j+k[i]+ key[i % len(key)]) % 256\n",
    "        k[i], k[j] = k[j], k[i]  # リストを入れ替える\n",
    "    return k"
   ]
  },
  {
   "cell_type": "code",
   "execution_count": null,
   "metadata": {},
   "outputs": [],
   "source": [
    "k = KSA([1, 2, 3])"
   ]
  },
  {
   "cell_type": "code",
   "execution_count": null,
   "metadata": {},
   "outputs": [],
   "source": [
    "def PRGA(k, l):\n",
    "    # 0から255までの疑似乱数をl個生成する\n",
    "    i = 0\n",
    "    j = 0 # 入れ替えに使うインデックスを初期化\n",
    "    key = []  # キーストリーム用のリストを初期化\n",
    "    for c in range(l):\n",
    "        i = (i + 1) % 256\n",
    "        j = (j + k[i]) % 256  # 入れ替え用のインデックスを計算\n",
    "        k[i], k[j] = k[j], k[i]  # リストを入れ替える\n",
    "        key.append(k[(k[i] + k[j]) % 256])\n",
    "    return key"
   ]
  },
  {
   "cell_type": "code",
   "execution_count": null,
   "metadata": {},
   "outputs": [],
   "source": [
    "keystream = PRGA(k, 3)   # 長さ3のキーストリームを作る"
   ]
  },
  {
   "cell_type": "code",
   "execution_count": null,
   "metadata": {},
   "outputs": [],
   "source": [
    "plist = [65, 66, 67]    # 平文\n",
    "clist = binary_cipher(plist, keystream)  # XORで暗号化\n",
    "clist  # 暗号化した結果を表示"
   ]
  },
  {
   "cell_type": "code",
   "execution_count": null,
   "metadata": {},
   "outputs": [],
   "source": [
    "clist2 = binary_cipher(clist, keystream)  # 復号化\n",
    "clist2  # 復号化した結果を表示"
   ]
  },
  {
   "cell_type": "markdown",
   "metadata": {},
   "source": [
    "### 乱数のランダムさを調べる"
   ]
  },
  {
   "cell_type": "code",
   "execution_count": null,
   "metadata": {},
   "outputs": [],
   "source": [
    "k = KSA([1, 2, 3])     # KSAのリストを作る\n",
    "key = PRGA(k, 1000000)  # キーストリームを作る"
   ]
  },
  {
   "cell_type": "code",
   "execution_count": null,
   "metadata": {},
   "outputs": [],
   "source": [
    "from minbc_lib.bcipher import *       # ライブラリをインポート\n",
    "show_rc4_randdomness(key)   # グラフを描画する"
   ]
  },
  {
   "cell_type": "code",
   "execution_count": null,
   "metadata": {},
   "outputs": [],
   "source": [
    "from random import randint  # 乱数を作る関数をインポート\n",
    "# ランダムなKSAのキーを使って，RC4のキーストリームを10万回作る\n",
    "rc4_ks = []  # RC4のキーストリームを保存するリスト\n",
    "for i in range(100000):\n",
    "    # ランダムな3つの値を持つKSAの鍵を作る\n",
    "    ksa_key = [randint(0, 255), randint(0, 255), randint(0, 255)]\n",
    "    k = KSA(ksa_key)   # KSAのリストを作る\n",
    "    key = PRGA(k, 10)  # 長さ10のキーストリームを作る\n",
    "    rc4_ks.append(key)  # キートスリームをリストに追加"
   ]
  },
  {
   "cell_type": "code",
   "execution_count": null,
   "metadata": {},
   "outputs": [],
   "source": [
    "# キーストリームの二番目に出現する数を集計する\n",
    "second_keys = []  # 二番目の数を保存するリストを初期化\n",
    "for i in range(100000):\n",
    "    # キーストリームの二番目を取り出してリストに追加\n",
    "    second_keys.append(rc4_ks[i][1])"
   ]
  },
  {
   "cell_type": "code",
   "execution_count": null,
   "metadata": {},
   "outputs": [],
   "source": [
    "second_keys.count(0)"
   ]
  },
  {
   "cell_type": "code",
   "execution_count": null,
   "metadata": {},
   "outputs": [],
   "source": [
    "second_keys.count(1)"
   ]
  },
  {
   "cell_type": "code",
   "execution_count": null,
   "metadata": {},
   "outputs": [],
   "source": [
    "show_rc4_randdomness(second_keys)"
   ]
  },
  {
   "cell_type": "markdown",
   "metadata": {},
   "source": [
    "### ブロック暗号"
   ]
  },
  {
   "cell_type": "code",
   "execution_count": null,
   "metadata": {},
   "outputs": [],
   "source": [
    "def p(num):\n",
    "    # 4ビットの数を転置する\n",
    "    res = (num&1)<<3 | (num&2)<<1 | (num&4)>>2 | (num&8)>>2\n",
    "    return res"
   ]
  },
  {
   "cell_type": "code",
   "execution_count": null,
   "metadata": {},
   "outputs": [],
   "source": [
    "from minbc_lib.bcipher import *"
   ]
  },
  {
   "cell_type": "code",
   "execution_count": null,
   "metadata": {},
   "outputs": [],
   "source": [
    "p(0b1010)"
   ]
  },
  {
   "cell_type": "code",
   "execution_count": null,
   "metadata": {},
   "outputs": [],
   "source": [
    "def r_p(num):\n",
    "    # 4ビットの数を転置する(逆)\n",
    "    res = (num&1)<<2 | (num&2)<<2 | (num&4)>>1 | (num&8)>>3\n",
    "    return res"
   ]
  },
  {
   "cell_type": "code",
   "execution_count": null,
   "metadata": {},
   "outputs": [],
   "source": [
    "r_p(6)"
   ]
  },
  {
   "cell_type": "code",
   "execution_count": null,
   "metadata": {},
   "outputs": [],
   "source": [
    "# 換字用のリスト\n",
    "sbox = [12, 5, 6, 11, 9, 0, 10, 13, 3, 14, 15, 8, 4, 7, 1, 2]\n",
    "\n",
    "def s(num):\n",
    "    # 換字を行う関数\n",
    "    return sbox[num]\n",
    "\n",
    "def r_s(num):\n",
    "    # 換字を行う関数(逆)\n",
    "    return sbox.index(num)"
   ]
  },
  {
   "cell_type": "code",
   "execution_count": null,
   "metadata": {},
   "outputs": [],
   "source": [
    "r_s(s(10))"
   ]
  },
  {
   "cell_type": "code",
   "execution_count": null,
   "metadata": {},
   "outputs": [],
   "source": [
    "def simple_bcipher(num, key):\n",
    "    # ブロック暗号で暗号化する\n",
    "    r = s(num)  # 転置\n",
    "    r = r ^ key # ラウンド鍵でXOR\n",
    "    r = p(r)      # 換字\n",
    "    return r\n",
    "\n",
    "def r_simple_bcipher(num, key):\n",
    "    # ブロック暗号で復号化する\n",
    "    r = r_p(num)      # 換字\n",
    "    r = r ^ key # ラウンド鍵でXOR\n",
    "    r = r_s(r)  # 転置\n",
    "    return r"
   ]
  },
  {
   "cell_type": "code",
   "execution_count": null,
   "metadata": {},
   "outputs": [],
   "source": [
    "num = 5    # 平文となる数\n",
    "for i in range(5): # 5ラウンド繰り返す\n",
    "    # ラウンド鍵10で暗号化\n",
    "    num = simple_bcipher(num, 10)\n",
    "num   # 暗号化した結果を表示"
   ]
  },
  {
   "cell_type": "code",
   "execution_count": null,
   "metadata": {},
   "outputs": [],
   "source": [
    "num = 0    # 暗号文\n",
    "for i in range(5): # 10ラウンド繰り返す\n",
    "    # ラウンド鍵10で暗号化\n",
    "    num = r_simple_bcipher(num, 10)\n",
    "num   # 複合化した結果を表示"
   ]
  },
  {
   "cell_type": "code",
   "execution_count": null,
   "metadata": {},
   "outputs": [],
   "source": []
  }
 ],
 "metadata": {
  "kernelspec": {
   "display_name": "Python 3",
   "language": "python",
   "name": "python3"
  },
  "language_info": {
   "codemirror_mode": {
    "name": "ipython",
    "version": 3
   },
   "file_extension": ".py",
   "mimetype": "text/x-python",
   "name": "python",
   "nbconvert_exporter": "python",
   "pygments_lexer": "ipython3",
   "version": "3.7.0"
  }
 },
 "nbformat": 4,
 "nbformat_minor": 2
}
