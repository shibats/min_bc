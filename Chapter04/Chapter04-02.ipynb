{
 "cells": [
  {
   "cell_type": "markdown",
   "metadata": {},
   "source": [
    "## Chapter 04-02 暗号の基本"
   ]
  },
  {
   "cell_type": "code",
   "execution_count": null,
   "metadata": {},
   "outputs": [],
   "source": [
    "# Collaboratoryを使っている方は，下の行のコメント(#)を取り除いて実行してください\n",
    "#!pip install minbc_lib"
   ]
  },
  {
   "cell_type": "markdown",
   "metadata": {},
   "source": [
    "### 暗号の基本"
   ]
  },
  {
   "cell_type": "code",
   "execution_count": null,
   "metadata": {},
   "outputs": [],
   "source": [
    "ord(\"A\")"
   ]
  },
  {
   "cell_type": "code",
   "execution_count": null,
   "metadata": {},
   "outputs": [],
   "source": [
    "def caesar_cipher(word, key):\n",
    "    # シーザー暗号で文字列を書き換える関数\n",
    "    encripted = \"\"  # 書き換え後の文字列を初期化\n",
    "    for c in word:\n",
    "        # 文字列から1文字ずつ取り出してループ\n",
    "        before = ord(c)-65  # Aを起点とした数を計算\n",
    "        after = (before+key)%26 # keyの数だけずらす\n",
    "        encripted = encripted+chr(after+65)\n",
    "    return encripted"
   ]
  },
  {
   "cell_type": "code",
   "execution_count": null,
   "metadata": {},
   "outputs": [],
   "source": [
    "from minbc_lib.caesar import caesar_cipher"
   ]
  },
  {
   "cell_type": "code",
   "execution_count": null,
   "metadata": {},
   "outputs": [],
   "source": [
    "caesar_cipher(\"BITCOIN\", 3)"
   ]
  },
  {
   "cell_type": "code",
   "execution_count": null,
   "metadata": {},
   "outputs": [],
   "source": [
    "caesar_cipher(\"ELWFRLQ\", -3)"
   ]
  },
  {
   "cell_type": "markdown",
   "metadata": {},
   "source": [
    "### 暗号の解読"
   ]
  },
  {
   "cell_type": "code",
   "execution_count": null,
   "metadata": {},
   "outputs": [],
   "source": [
    "message = \"GWZYZX\"  # 解読しようとする文字列\n",
    "for key in range(1, 26): # 1から25までループ\n",
    "    answer = caesar_cipher(message, -key) # 暗号を解いてみる\n",
    "    print(key, answer)"
   ]
  },
  {
   "cell_type": "markdown",
   "metadata": {},
   "source": [
    "### 暗号の強度"
   ]
  },
  {
   "cell_type": "code",
   "execution_count": null,
   "metadata": {},
   "outputs": [],
   "source": [
    "ctable = []   # 対応表のリストを初期化\n",
    "# AからZまでの文字列を持つリストを作る\n",
    "for i in range(0, 26): # 0から25までループ\n",
    "    ctable = ctable+[chr(i+65)]"
   ]
  },
  {
   "cell_type": "code",
   "execution_count": null,
   "metadata": {},
   "outputs": [],
   "source": [
    "# リストの要素をバラバラにする関数を読み込む\n",
    "from random import shuffle, seed\n",
    "seed(10)          # 結果を固定\n",
    "shuffle(ctable)  # リストをシャッフルする"
   ]
  },
  {
   "cell_type": "code",
   "execution_count": null,
   "metadata": {},
   "outputs": [],
   "source": [
    "def encrypt_ssc(ptext, table):\n",
    "    # 単一換字暗号で暗号化する関数\n",
    "    ctext = \"\" # 暗号文を初期化\n",
    "    for i in ptext:  # 平文でループ\n",
    "        idx = ord(i)-65   # Aからの順番を計算\n",
    "        ctext = ctext+table[idx]  # 対応表を使って置き換え\n",
    "    return ctext"
   ]
  },
  {
   "cell_type": "code",
   "execution_count": null,
   "metadata": {},
   "outputs": [],
   "source": [
    "def decrypt_ssc(ctext, table):\n",
    "    # 単一換字暗号で復号化する関数\n",
    "    ptext = \"\" # 復号化する平文を初期化\n",
    "    for i in ctext:  # 暗号文でループ\n",
    "        idx = table.index(i)  # 対応表のインデックスに変換\n",
    "        ptext = ptext+chr(idx+65)  # 文字を復号化\n",
    "    return ptext"
   ]
  },
  {
   "cell_type": "code",
   "execution_count": null,
   "metadata": {},
   "outputs": [],
   "source": [
    "encrypt_ssc(\"PLAINTEXT\", ctable)"
   ]
  },
  {
   "cell_type": "code",
   "execution_count": null,
   "metadata": {},
   "outputs": [],
   "source": [
    "decrypt_ssc(\"FRMLQGENG\", ctable)"
   ]
  },
  {
   "cell_type": "markdown",
   "metadata": {},
   "source": [
    "### 統計的特徴を使った暗号解読"
   ]
  },
  {
   "cell_type": "code",
   "execution_count": null,
   "metadata": {},
   "outputs": [],
   "source": [
    "from minbc_lib.lfreq import *  # 頻度表などをインポート\n",
    "show_freq_graph()  # グラフを表示"
   ]
  },
  {
   "cell_type": "code",
   "execution_count": null,
   "metadata": {},
   "outputs": [],
   "source": [
    "o_freq = calc_freq_table(obama_speech)"
   ]
  },
  {
   "cell_type": "code",
   "execution_count": null,
   "metadata": {},
   "outputs": [],
   "source": [
    "show_freq_graph(o_freq)"
   ]
  },
  {
   "cell_type": "code",
   "execution_count": null,
   "metadata": {},
   "outputs": [],
   "source": [
    "encwords"
   ]
  },
  {
   "cell_type": "code",
   "execution_count": null,
   "metadata": {},
   "outputs": [],
   "source": [
    "e_freq = calc_freq_table(encwords)"
   ]
  },
  {
   "cell_type": "code",
   "execution_count": null,
   "metadata": {},
   "outputs": [],
   "source": [
    "# 解読用のコード\n",
    "ctable = []   # 対応表のリストを初期化\n",
    "# AからZまでの文字列を持つリストを作る\n",
    "for i in range(0, 26): # 0から25までループ\n",
    "    ctable = ctable+[chr(i+65)]\n",
    "# リストの要素をバラバラにする関数を読み込む\n",
    "from random import shuffle, seed\n",
    "seed(20)          # 結果を固定\n",
    "shuffle(ctable)  # リストをシャッフルする"
   ]
  },
  {
   "cell_type": "code",
   "execution_count": null,
   "metadata": {},
   "outputs": [],
   "source": [
    "decrypt_ssc(encwords, ctable)"
   ]
  },
  {
   "cell_type": "markdown",
   "metadata": {},
   "source": [
    "### エニグマ暗号"
   ]
  },
  {
   "cell_type": "code",
   "execution_count": null,
   "metadata": {},
   "outputs": [],
   "source": [
    "from minbc_lib.enigma import *   # モジュールを読み込む\n",
    "reset(\"ABC\")    # エニグマ暗号機をリセット\n",
    "encrypt_enigma(\"ABC\")  # 暗号化"
   ]
  },
  {
   "cell_type": "code",
   "execution_count": null,
   "metadata": {},
   "outputs": [],
   "source": [
    "reset(\"ABC\")    # エニグマ暗号機をリセット\n",
    "encrypt_enigma(\"ABBC\")  # 暗号化"
   ]
  },
  {
   "cell_type": "code",
   "execution_count": null,
   "metadata": {},
   "outputs": [],
   "source": [
    "reset(\"ABC\")    # 鍵を使って暗号機をリセット\n",
    "encrypt_enigma(\"JUV\")  # 復号化(暗号化)"
   ]
  },
  {
   "cell_type": "code",
   "execution_count": null,
   "metadata": {},
   "outputs": [],
   "source": []
  }
 ],
 "metadata": {
  "kernelspec": {
   "display_name": "Python 3",
   "language": "python",
   "name": "python3"
  },
  "language_info": {
   "codemirror_mode": {
    "name": "ipython",
    "version": 3
   },
   "file_extension": ".py",
   "mimetype": "text/x-python",
   "name": "python",
   "nbconvert_exporter": "python",
   "pygments_lexer": "ipython3",
   "version": "3.7.0"
  }
 },
 "nbformat": 4,
 "nbformat_minor": 2
}
