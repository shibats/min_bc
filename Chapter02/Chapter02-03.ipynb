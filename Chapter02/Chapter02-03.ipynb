{
 "cells": [
  {
   "cell_type": "markdown",
   "metadata": {},
   "source": [
    "## Chapter 02-03 プログラムで履歴を記録する"
   ]
  },
  {
   "cell_type": "code",
   "execution_count": null,
   "metadata": {},
   "outputs": [],
   "source": [
    "# 前の節で定義した関数をもう一度定義します\n",
    "\n",
    "def calc(wallet, price):\n",
    "    if wallet+price >= 0:\n",
    "        wallet = wallet+price\n",
    "    return wallet"
   ]
  },
  {
   "cell_type": "code",
   "execution_count": null,
   "metadata": {},
   "outputs": [],
   "source": [
    "wallet = 0   # 変数を0で初期化する\n",
    "wallet = calc(wallet, 1000)  # おこずかいをもらう\n",
    "wallet = calc(wallet, -240)   # 電車に乗る\n",
    "wallet = calc(wallet, -300)   # 食玩を買う\n",
    "wallet = calc(wallet, -240)   # 電車で帰る\n",
    "wallet  # 残金を確認"
   ]
  },
  {
   "cell_type": "markdown",
   "metadata": {},
   "source": [
    "### 履歴を記録する - リストの基本"
   ]
  },
  {
   "cell_type": "code",
   "execution_count": null,
   "metadata": {},
   "outputs": [],
   "source": [
    "[1000, -240, -300, -240]"
   ]
  },
  {
   "cell_type": "code",
   "execution_count": null,
   "metadata": {},
   "outputs": [],
   "source": [
    "wallet = [1000, -240, -300, -240]"
   ]
  },
  {
   "cell_type": "code",
   "execution_count": null,
   "metadata": {},
   "outputs": [],
   "source": [
    "for figure in wallet:\n",
    "    print(figure)"
   ]
  },
  {
   "cell_type": "code",
   "execution_count": null,
   "metadata": {},
   "outputs": [],
   "source": [
    "for figure in wallet:\n",
    "    print(figure)"
   ]
  },
  {
   "cell_type": "code",
   "execution_count": null,
   "metadata": {},
   "outputs": [],
   "source": [
    "total = 0  # 合計の金額を初期化する\n",
    "for figure in wallet:         # リストの数値を取り出しながらループを実行\n",
    "    total = total+figure\n",
    "\n",
    "total  # 合計金額を表示"
   ]
  },
  {
   "cell_type": "code",
   "execution_count": null,
   "metadata": {},
   "outputs": [],
   "source": [
    "def pricesum(in_list):\n",
    "    total = 0  # 合計の金額を初期化する\n",
    "    for figure in in_list:         # リストの数値を取り出しながらループを実行\n",
    "        total = total+figure\n",
    "    return total  # 合計金額を返す"
   ]
  },
  {
   "cell_type": "code",
   "execution_count": null,
   "metadata": {},
   "outputs": [],
   "source": [
    "pricesum(wallet)"
   ]
  },
  {
   "cell_type": "markdown",
   "metadata": {},
   "source": [
    "### 履歴の修正と追加 - リスト要素の取り出しと追加"
   ]
  },
  {
   "cell_type": "code",
   "execution_count": null,
   "metadata": {},
   "outputs": [],
   "source": [
    "wallet"
   ]
  },
  {
   "cell_type": "code",
   "execution_count": null,
   "metadata": {},
   "outputs": [],
   "source": [
    "wallet[0]"
   ]
  },
  {
   "cell_type": "code",
   "execution_count": null,
   "metadata": {},
   "outputs": [],
   "source": [
    "wallet[1] = -230\n",
    "wallet[3] = -230"
   ]
  },
  {
   "cell_type": "code",
   "execution_count": null,
   "metadata": {},
   "outputs": [],
   "source": [
    "wallet"
   ]
  },
  {
   "cell_type": "code",
   "execution_count": null,
   "metadata": {},
   "outputs": [],
   "source": [
    "pricesum(wallet)"
   ]
  },
  {
   "cell_type": "code",
   "execution_count": null,
   "metadata": {},
   "outputs": [],
   "source": [
    "wallet = wallet+[-100]"
   ]
  },
  {
   "cell_type": "code",
   "execution_count": null,
   "metadata": {},
   "outputs": [],
   "source": [
    "wallet"
   ]
  },
  {
   "cell_type": "code",
   "execution_count": null,
   "metadata": {},
   "outputs": [],
   "source": [
    "pricesum(wallet)"
   ]
  },
  {
   "cell_type": "markdown",
   "metadata": {},
   "source": [
    "### 複数の財布を管理する - IDとしての数"
   ]
  },
  {
   "cell_type": "code",
   "execution_count": null,
   "metadata": {},
   "outputs": [],
   "source": [
    "wallets = [    # 大きなリストを作る\n",
    "    [1000, -230, -300, -230, -100],  # 1つめの入出金履歴リスト\n",
    "    [1500, -540]                           # 2つめの入出金履歴リスト\n",
    "]"
   ]
  },
  {
   "cell_type": "code",
   "execution_count": null,
   "metadata": {},
   "outputs": [],
   "source": [
    "wallets[0]   # 最初の履歴リストを取り出す"
   ]
  },
  {
   "cell_type": "code",
   "execution_count": null,
   "metadata": {},
   "outputs": [],
   "source": [
    "wallets[0][4]"
   ]
  },
  {
   "cell_type": "code",
   "execution_count": null,
   "metadata": {},
   "outputs": [],
   "source": [
    "wallets[1] = wallets[1]+[-120]\n",
    "wallets[1]"
   ]
  },
  {
   "cell_type": "code",
   "execution_count": null,
   "metadata": {},
   "outputs": [],
   "source": [
    "pricesum(wallets[1])"
   ]
  },
  {
   "cell_type": "markdown",
   "metadata": {},
   "source": [
    "### 価値の交換 - トランザクション"
   ]
  },
  {
   "cell_type": "code",
   "execution_count": null,
   "metadata": {},
   "outputs": [],
   "source": [
    "if pricesum(wallets[1]) > 100:\n",
    "    wallets[1] = wallets[1]+[-100]\n",
    "    wallets[0] = wallets[0]+[100]"
   ]
  },
  {
   "cell_type": "markdown",
   "metadata": {},
   "source": [
    "### 科目の保存 - 文字列"
   ]
  },
  {
   "cell_type": "code",
   "execution_count": null,
   "metadata": {},
   "outputs": [],
   "source": [
    "subject = \"交通費\""
   ]
  },
  {
   "cell_type": "code",
   "execution_count": null,
   "metadata": {},
   "outputs": [],
   "source": [
    "subject = subject+\"(A駅からB駅へ)\""
   ]
  },
  {
   "cell_type": "code",
   "execution_count": null,
   "metadata": {},
   "outputs": [],
   "source": [
    "subject"
   ]
  },
  {
   "cell_type": "code",
   "execution_count": null,
   "metadata": {},
   "outputs": [],
   "source": [
    "item = [1000, \"おこずかいをもらう\", \"2018/10/02\"]"
   ]
  },
  {
   "cell_type": "code",
   "execution_count": null,
   "metadata": {},
   "outputs": [],
   "source": [
    "wallet = [\n",
    "[1000, \"おこずかいをもらう\", \"2018/10/02\"],\n",
    "[-240, \"電車に乗る(A駅からB駅)\", \"2018/10/03\"],\n",
    "[-300, \"食玩を買う\", \"2018/10/03\"],\n",
    "[-240, \"電車で帰る(B駅からA駅)\", \"2018/10/03\"]\n",
    "]"
   ]
  },
  {
   "cell_type": "code",
   "execution_count": null,
   "metadata": {},
   "outputs": [],
   "source": [
    "wallets = [\n",
    "    # ひとつ目の履歴リスト\n",
    "    [[1000, \"おこずかいをもらう\", \"2018/10/02\"],\n",
    "     [-240, \"電車に乗る(A駅からB駅)\", \"2018/10/03\"],\n",
    "     [-300, \"食玩を買う\", \"2018/10/03\"],\n",
    "     [-240, \"電車で帰る(B駅からA駅)\", \"2018/10/03\"]],\n",
    "    # ふたつ目の履歴リスト\n",
    "    [[1500, \"おこずかいをもらう\", \"2018/9/30\"],\n",
    "     [-540, \"マンガを買う\", \"2018/10/5\"]]\n",
    "]"
   ]
  },
  {
   "cell_type": "markdown",
   "metadata": {},
   "source": [
    "### ライブラリのインストール"
   ]
  },
  {
   "cell_type": "code",
   "execution_count": null,
   "metadata": {},
   "outputs": [],
   "source": [
    "# Collaboratory，またはMacを使っている方は，下の行を実行して，ライブラリをインストールしてください\n",
    "!pip install minbc_lib"
   ]
  },
  {
   "cell_type": "code",
   "execution_count": null,
   "metadata": {},
   "outputs": [],
   "source": [
    "from minbc_lib.dwwallets import *   # ライブラリを読み込む"
   ]
  },
  {
   "cell_type": "code",
   "execution_count": null,
   "metadata": {},
   "outputs": [],
   "source": [
    "wallet1 = get_wallet(0)    # ID 0のwalletを取り出す\n",
    "wallet1.describe()   # 収支の概要を表示する"
   ]
  },
  {
   "cell_type": "code",
   "execution_count": null,
   "metadata": {},
   "outputs": [],
   "source": [
    "wallet1.pie_chart()"
   ]
  },
  {
   "cell_type": "code",
   "execution_count": null,
   "metadata": {},
   "outputs": [],
   "source": []
  }
 ],
 "metadata": {
  "kernelspec": {
   "display_name": "Python 3",
   "language": "python",
   "name": "python3"
  },
  "language_info": {
   "codemirror_mode": {
    "name": "ipython",
    "version": 3
   },
   "file_extension": ".py",
   "mimetype": "text/x-python",
   "name": "python",
   "nbconvert_exporter": "python",
   "pygments_lexer": "ipython3",
   "version": "3.7.0"
  }
 },
 "nbformat": 4,
 "nbformat_minor": 2
}
