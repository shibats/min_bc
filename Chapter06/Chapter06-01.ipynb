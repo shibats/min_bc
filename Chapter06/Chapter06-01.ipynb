{
 "cells": [
  {
   "cell_type": "markdown",
   "metadata": {},
   "source": [
    "## Chapter 06 ブロックチェーンとハッシュ"
   ]
  },
  {
   "cell_type": "markdown",
   "metadata": {},
   "source": [
    "###  ハッシュチェーン"
   ]
  },
  {
   "cell_type": "code",
   "execution_count": null,
   "metadata": {},
   "outputs": [],
   "source": [
    "# Collaboratoryを使っている方は，下の行のコメント(#)を取り除いて実行してください\n",
    "#!pip install minbc_lib"
   ]
  },
  {
   "cell_type": "markdown",
   "metadata": {},
   "source": [
    "### ハッシュのチェーン"
   ]
  },
  {
   "cell_type": "code",
   "execution_count": null,
   "metadata": {},
   "outputs": [],
   "source": [
    "# ライブラリをインポート\n",
    "from minbc_lib.hashchain import *\n",
    "\n",
    "hash_list = []   # ハッシュ値を保存するリストを初期化\n",
    "h = \"unbreakablepassword\"  # ハッシュチェーンの元となる文字列\n",
    "for i in range(101):\n",
    "    # ハッシュ値を100回計算し，チェーンに保存\n",
    "    # 直前のハッシュ値からハッシュ値を得る\n",
    "    h = calc_weakhash(h)\n",
    "    hash_list.append(h)   # リストに追加"
   ]
  },
  {
   "cell_type": "code",
   "execution_count": null,
   "metadata": {},
   "outputs": [],
   "source": [
    "hash_list[99]"
   ]
  },
  {
   "cell_type": "code",
   "execution_count": null,
   "metadata": {},
   "outputs": [],
   "source": [
    "calc_weakhash(hash_list[98])"
   ]
  },
  {
   "cell_type": "markdown",
   "metadata": {},
   "source": [
    "### ハッシュで順序を生み出す"
   ]
  },
  {
   "cell_type": "code",
   "execution_count": null,
   "metadata": {},
   "outputs": [],
   "source": [
    "# ライブラリをインポート\n",
    "from minbc_lib.hashchain import *\n",
    "\n",
    "data_list = []  # データを保存するリスト\n",
    "tr = \"金田/1200000\"   # トランザクションのデータ\n",
    "data_list.append(tr)   # ハッシュ値をリストに追加\n",
    "\n",
    "h = calc_weakhash(tr)  # ハッシュ値を得る\n",
    "h   # ハッシュ値を表示する"
   ]
  },
  {
   "cell_type": "code",
   "execution_count": null,
   "metadata": {},
   "outputs": [],
   "source": [
    "tr2 = h+\",\"+\"金田/小島/1000000\"  # 次のデータを作る\n",
    "tr2  # データを表示"
   ]
  },
  {
   "cell_type": "code",
   "execution_count": null,
   "metadata": {},
   "outputs": [],
   "source": [
    "data_list.append(tr2)  # データをリストに追加\n",
    "h = calc_weakhash(tr2)  # ハッシュ値を得る"
   ]
  },
  {
   "cell_type": "code",
   "execution_count": null,
   "metadata": {},
   "outputs": [],
   "source": [
    "tr3 = h+\",\"+\"小島/大山/1000000\" # 次のデータを作る\n",
    "data_list.append(tr3)  # データをリストに追加"
   ]
  },
  {
   "cell_type": "code",
   "execution_count": null,
   "metadata": {},
   "outputs": [],
   "source": [
    "data_list"
   ]
  },
  {
   "cell_type": "code",
   "execution_count": null,
   "metadata": {},
   "outputs": [],
   "source": [
    "tr = data_list[2]  # リストからデータを取り出す\n",
    "tr.split(',')  # 文字列を\",\"で分割して表示"
   ]
  },
  {
   "cell_type": "code",
   "execution_count": null,
   "metadata": {},
   "outputs": [],
   "source": [
    "tr.split(\",\")[0]"
   ]
  },
  {
   "cell_type": "code",
   "execution_count": null,
   "metadata": {},
   "outputs": [],
   "source": [
    "calc_weakhash(data_list[1]) == tr.split(\",\")[0]"
   ]
  },
  {
   "cell_type": "markdown",
   "metadata": {},
   "source": [
    "### 改ざんの検出"
   ]
  },
  {
   "cell_type": "code",
   "execution_count": null,
   "metadata": {},
   "outputs": [],
   "source": [
    "data_list[1]   # 書き換えるトランザクションを表示"
   ]
  },
  {
   "cell_type": "code",
   "execution_count": null,
   "metadata": {},
   "outputs": [],
   "source": [
    "data_list[1] = \"3f048e08bc7761ea,金田/小島/1200000\""
   ]
  },
  {
   "cell_type": "code",
   "execution_count": null,
   "metadata": {},
   "outputs": [],
   "source": [
    "data_list[2].split(\",\")[0]"
   ]
  },
  {
   "cell_type": "code",
   "execution_count": null,
   "metadata": {},
   "outputs": [],
   "source": [
    "calc_weakhash(data_list[1])"
   ]
  },
  {
   "cell_type": "code",
   "execution_count": null,
   "metadata": {},
   "outputs": [],
   "source": [
    "def proof(a_list, idx):\n",
    "    # ハッシュチェーンが壊れているかどうかを確かめる\n",
    "    h = calc_weakhash(data_list[idx])\n",
    "    ph = data_list[idx+1].split(\",\")[1]\n",
    "    if h == ph:\n",
    "        return True\n",
    "    else:\n",
    "        return False"
   ]
  },
  {
   "cell_type": "code",
   "execution_count": null,
   "metadata": {},
   "outputs": [],
   "source": [
    "proof(data_list, 1)"
   ]
  },
  {
   "cell_type": "markdown",
   "metadata": {},
   "source": [
    "### チェーンをより強固にする"
   ]
  },
  {
   "cell_type": "code",
   "execution_count": null,
   "metadata": {},
   "outputs": [],
   "source": [
    "calc_weakhash(data_list[0])"
   ]
  },
  {
   "cell_type": "code",
   "execution_count": null,
   "metadata": {},
   "outputs": [],
   "source": [
    "def find_nonce(data, prefix):\n",
    "    # ハッシュ値がprefixから始まるようなノンスをみつける\n",
    "    for nonce in range(100000):\n",
    "        # 1から10万までループ\n",
    "        ndata = data+\":\"+str(nonce) # ノンスを追加\n",
    "        h = calc_weakhash(ndata)\n",
    "        if h.startswith(prefix):\n",
    "            return ndata, h\n",
    "    return \"\", \"\""
   ]
  },
  {
   "cell_type": "code",
   "execution_count": null,
   "metadata": {},
   "outputs": [],
   "source": [
    "data, h = find_nonce(\"金田/1200000\" , \"0\")\n",
    "data, h   # 結果を表示"
   ]
  },
  {
   "cell_type": "code",
   "execution_count": null,
   "metadata": {},
   "outputs": [],
   "source": [
    "data = \"金田/1200000\"  # データを変数に代入\n",
    "# いろいろな条件でハッシュを計算，表示\n",
    "print(find_nonce(data, \"00\"))    # 先頭に00を持つ\n",
    "print(find_nonce(data, \"000\"))  # 先頭に000を持つ\n",
    "print(find_nonce(data, \"0000\")) # 先頭に0000を持つ"
   ]
  },
  {
   "cell_type": "code",
   "execution_count": null,
   "metadata": {},
   "outputs": [],
   "source": []
  }
 ],
 "metadata": {
  "kernelspec": {
   "display_name": "Python 3",
   "language": "python",
   "name": "python3"
  },
  "language_info": {
   "codemirror_mode": {
    "name": "ipython",
    "version": 3
   },
   "file_extension": ".py",
   "mimetype": "text/x-python",
   "name": "python",
   "nbconvert_exporter": "python",
   "pygments_lexer": "ipython3",
   "version": "3.7.0"
  }
 },
 "nbformat": 4,
 "nbformat_minor": 2
}
